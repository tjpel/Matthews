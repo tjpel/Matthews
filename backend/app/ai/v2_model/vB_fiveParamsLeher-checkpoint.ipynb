{
 "cells": [
  {
   "cell_type": "code",
   "execution_count": 21,
   "id": "c74a4854",
   "metadata": {},
   "outputs": [
    {
     "ename": "FileNotFoundError",
     "evalue": "[Errno 2] No such file or directory: './CostarExport_1.csv'",
     "output_type": "error",
     "traceback": [
      "\u001b[1;31m---------------------------------------------------------------------------\u001b[0m",
      "\u001b[1;31mFileNotFoundError\u001b[0m                         Traceback (most recent call last)",
      "\u001b[1;32md:\\Code\\Matthews\\backend\\app\\ai\\v2_model\\vB_fiveParamsLeher-checkpoint.ipynb Cell 1\u001b[0m line \u001b[0;36m2\n\u001b[0;32m      <a href='vscode-notebook-cell:/d%3A/Code/Matthews/backend/app/ai/v2_model/vB_fiveParamsLeher-checkpoint.ipynb#W0sZmlsZQ%3D%3D?line=0'>1</a>\u001b[0m \u001b[39mimport\u001b[39;00m \u001b[39mpandas\u001b[39;00m \u001b[39mas\u001b[39;00m \u001b[39mpd\u001b[39;00m\n\u001b[1;32m----> <a href='vscode-notebook-cell:/d%3A/Code/Matthews/backend/app/ai/v2_model/vB_fiveParamsLeher-checkpoint.ipynb#W0sZmlsZQ%3D%3D?line=1'>2</a>\u001b[0m data1 \u001b[39m=\u001b[39m pd\u001b[39m.\u001b[39;49mread_csv(\u001b[39m\"\u001b[39;49m\u001b[39m./CostarExport_1.csv\u001b[39;49m\u001b[39m\"\u001b[39;49m) \u001b[39m# getting the data\u001b[39;00m\n\u001b[0;32m      <a href='vscode-notebook-cell:/d%3A/Code/Matthews/backend/app/ai/v2_model/vB_fiveParamsLeher-checkpoint.ipynb#W0sZmlsZQ%3D%3D?line=2'>3</a>\u001b[0m data2 \u001b[39m=\u001b[39m pd\u001b[39m.\u001b[39mread_csv(\u001b[39m\"\u001b[39m\u001b[39m./LA_multifamily.csv\u001b[39m\u001b[39m\"\u001b[39m) \u001b[39m# getting the data\u001b[39;00m\n\u001b[0;32m      <a href='vscode-notebook-cell:/d%3A/Code/Matthews/backend/app/ai/v2_model/vB_fiveParamsLeher-checkpoint.ipynb#W0sZmlsZQ%3D%3D?line=4'>5</a>\u001b[0m columnsInD1 \u001b[39m=\u001b[39m data1\u001b[39m.\u001b[39mkeys()\n",
      "File \u001b[1;32mc:\\Users\\tjp00\\AppData\\Local\\Programs\\Python\\Python311\\Lib\\site-packages\\pandas\\util\\_decorators.py:211\u001b[0m, in \u001b[0;36mdeprecate_kwarg.<locals>._deprecate_kwarg.<locals>.wrapper\u001b[1;34m(*args, **kwargs)\u001b[0m\n\u001b[0;32m    209\u001b[0m     \u001b[39melse\u001b[39;00m:\n\u001b[0;32m    210\u001b[0m         kwargs[new_arg_name] \u001b[39m=\u001b[39m new_arg_value\n\u001b[1;32m--> 211\u001b[0m \u001b[39mreturn\u001b[39;00m func(\u001b[39m*\u001b[39;49margs, \u001b[39m*\u001b[39;49m\u001b[39m*\u001b[39;49mkwargs)\n",
      "File \u001b[1;32mc:\\Users\\tjp00\\AppData\\Local\\Programs\\Python\\Python311\\Lib\\site-packages\\pandas\\util\\_decorators.py:331\u001b[0m, in \u001b[0;36mdeprecate_nonkeyword_arguments.<locals>.decorate.<locals>.wrapper\u001b[1;34m(*args, **kwargs)\u001b[0m\n\u001b[0;32m    325\u001b[0m \u001b[39mif\u001b[39;00m \u001b[39mlen\u001b[39m(args) \u001b[39m>\u001b[39m num_allow_args:\n\u001b[0;32m    326\u001b[0m     warnings\u001b[39m.\u001b[39mwarn(\n\u001b[0;32m    327\u001b[0m         msg\u001b[39m.\u001b[39mformat(arguments\u001b[39m=\u001b[39m_format_argument_list(allow_args)),\n\u001b[0;32m    328\u001b[0m         \u001b[39mFutureWarning\u001b[39;00m,\n\u001b[0;32m    329\u001b[0m         stacklevel\u001b[39m=\u001b[39mfind_stack_level(),\n\u001b[0;32m    330\u001b[0m     )\n\u001b[1;32m--> 331\u001b[0m \u001b[39mreturn\u001b[39;00m func(\u001b[39m*\u001b[39;49margs, \u001b[39m*\u001b[39;49m\u001b[39m*\u001b[39;49mkwargs)\n",
      "File \u001b[1;32mc:\\Users\\tjp00\\AppData\\Local\\Programs\\Python\\Python311\\Lib\\site-packages\\pandas\\io\\parsers\\readers.py:950\u001b[0m, in \u001b[0;36mread_csv\u001b[1;34m(filepath_or_buffer, sep, delimiter, header, names, index_col, usecols, squeeze, prefix, mangle_dupe_cols, dtype, engine, converters, true_values, false_values, skipinitialspace, skiprows, skipfooter, nrows, na_values, keep_default_na, na_filter, verbose, skip_blank_lines, parse_dates, infer_datetime_format, keep_date_col, date_parser, dayfirst, cache_dates, iterator, chunksize, compression, thousands, decimal, lineterminator, quotechar, quoting, doublequote, escapechar, comment, encoding, encoding_errors, dialect, error_bad_lines, warn_bad_lines, on_bad_lines, delim_whitespace, low_memory, memory_map, float_precision, storage_options)\u001b[0m\n\u001b[0;32m    935\u001b[0m kwds_defaults \u001b[39m=\u001b[39m _refine_defaults_read(\n\u001b[0;32m    936\u001b[0m     dialect,\n\u001b[0;32m    937\u001b[0m     delimiter,\n\u001b[1;32m   (...)\u001b[0m\n\u001b[0;32m    946\u001b[0m     defaults\u001b[39m=\u001b[39m{\u001b[39m\"\u001b[39m\u001b[39mdelimiter\u001b[39m\u001b[39m\"\u001b[39m: \u001b[39m\"\u001b[39m\u001b[39m,\u001b[39m\u001b[39m\"\u001b[39m},\n\u001b[0;32m    947\u001b[0m )\n\u001b[0;32m    948\u001b[0m kwds\u001b[39m.\u001b[39mupdate(kwds_defaults)\n\u001b[1;32m--> 950\u001b[0m \u001b[39mreturn\u001b[39;00m _read(filepath_or_buffer, kwds)\n",
      "File \u001b[1;32mc:\\Users\\tjp00\\AppData\\Local\\Programs\\Python\\Python311\\Lib\\site-packages\\pandas\\io\\parsers\\readers.py:605\u001b[0m, in \u001b[0;36m_read\u001b[1;34m(filepath_or_buffer, kwds)\u001b[0m\n\u001b[0;32m    602\u001b[0m _validate_names(kwds\u001b[39m.\u001b[39mget(\u001b[39m\"\u001b[39m\u001b[39mnames\u001b[39m\u001b[39m\"\u001b[39m, \u001b[39mNone\u001b[39;00m))\n\u001b[0;32m    604\u001b[0m \u001b[39m# Create the parser.\u001b[39;00m\n\u001b[1;32m--> 605\u001b[0m parser \u001b[39m=\u001b[39m TextFileReader(filepath_or_buffer, \u001b[39m*\u001b[39;49m\u001b[39m*\u001b[39;49mkwds)\n\u001b[0;32m    607\u001b[0m \u001b[39mif\u001b[39;00m chunksize \u001b[39mor\u001b[39;00m iterator:\n\u001b[0;32m    608\u001b[0m     \u001b[39mreturn\u001b[39;00m parser\n",
      "File \u001b[1;32mc:\\Users\\tjp00\\AppData\\Local\\Programs\\Python\\Python311\\Lib\\site-packages\\pandas\\io\\parsers\\readers.py:1442\u001b[0m, in \u001b[0;36mTextFileReader.__init__\u001b[1;34m(self, f, engine, **kwds)\u001b[0m\n\u001b[0;32m   1439\u001b[0m     \u001b[39mself\u001b[39m\u001b[39m.\u001b[39moptions[\u001b[39m\"\u001b[39m\u001b[39mhas_index_names\u001b[39m\u001b[39m\"\u001b[39m] \u001b[39m=\u001b[39m kwds[\u001b[39m\"\u001b[39m\u001b[39mhas_index_names\u001b[39m\u001b[39m\"\u001b[39m]\n\u001b[0;32m   1441\u001b[0m \u001b[39mself\u001b[39m\u001b[39m.\u001b[39mhandles: IOHandles \u001b[39m|\u001b[39m \u001b[39mNone\u001b[39;00m \u001b[39m=\u001b[39m \u001b[39mNone\u001b[39;00m\n\u001b[1;32m-> 1442\u001b[0m \u001b[39mself\u001b[39m\u001b[39m.\u001b[39m_engine \u001b[39m=\u001b[39m \u001b[39mself\u001b[39;49m\u001b[39m.\u001b[39;49m_make_engine(f, \u001b[39mself\u001b[39;49m\u001b[39m.\u001b[39;49mengine)\n",
      "File \u001b[1;32mc:\\Users\\tjp00\\AppData\\Local\\Programs\\Python\\Python311\\Lib\\site-packages\\pandas\\io\\parsers\\readers.py:1735\u001b[0m, in \u001b[0;36mTextFileReader._make_engine\u001b[1;34m(self, f, engine)\u001b[0m\n\u001b[0;32m   1733\u001b[0m     \u001b[39mif\u001b[39;00m \u001b[39m\"\u001b[39m\u001b[39mb\u001b[39m\u001b[39m\"\u001b[39m \u001b[39mnot\u001b[39;00m \u001b[39min\u001b[39;00m mode:\n\u001b[0;32m   1734\u001b[0m         mode \u001b[39m+\u001b[39m\u001b[39m=\u001b[39m \u001b[39m\"\u001b[39m\u001b[39mb\u001b[39m\u001b[39m\"\u001b[39m\n\u001b[1;32m-> 1735\u001b[0m \u001b[39mself\u001b[39m\u001b[39m.\u001b[39mhandles \u001b[39m=\u001b[39m get_handle(\n\u001b[0;32m   1736\u001b[0m     f,\n\u001b[0;32m   1737\u001b[0m     mode,\n\u001b[0;32m   1738\u001b[0m     encoding\u001b[39m=\u001b[39;49m\u001b[39mself\u001b[39;49m\u001b[39m.\u001b[39;49moptions\u001b[39m.\u001b[39;49mget(\u001b[39m\"\u001b[39;49m\u001b[39mencoding\u001b[39;49m\u001b[39m\"\u001b[39;49m, \u001b[39mNone\u001b[39;49;00m),\n\u001b[0;32m   1739\u001b[0m     compression\u001b[39m=\u001b[39;49m\u001b[39mself\u001b[39;49m\u001b[39m.\u001b[39;49moptions\u001b[39m.\u001b[39;49mget(\u001b[39m\"\u001b[39;49m\u001b[39mcompression\u001b[39;49m\u001b[39m\"\u001b[39;49m, \u001b[39mNone\u001b[39;49;00m),\n\u001b[0;32m   1740\u001b[0m     memory_map\u001b[39m=\u001b[39;49m\u001b[39mself\u001b[39;49m\u001b[39m.\u001b[39;49moptions\u001b[39m.\u001b[39;49mget(\u001b[39m\"\u001b[39;49m\u001b[39mmemory_map\u001b[39;49m\u001b[39m\"\u001b[39;49m, \u001b[39mFalse\u001b[39;49;00m),\n\u001b[0;32m   1741\u001b[0m     is_text\u001b[39m=\u001b[39;49mis_text,\n\u001b[0;32m   1742\u001b[0m     errors\u001b[39m=\u001b[39;49m\u001b[39mself\u001b[39;49m\u001b[39m.\u001b[39;49moptions\u001b[39m.\u001b[39;49mget(\u001b[39m\"\u001b[39;49m\u001b[39mencoding_errors\u001b[39;49m\u001b[39m\"\u001b[39;49m, \u001b[39m\"\u001b[39;49m\u001b[39mstrict\u001b[39;49m\u001b[39m\"\u001b[39;49m),\n\u001b[0;32m   1743\u001b[0m     storage_options\u001b[39m=\u001b[39;49m\u001b[39mself\u001b[39;49m\u001b[39m.\u001b[39;49moptions\u001b[39m.\u001b[39;49mget(\u001b[39m\"\u001b[39;49m\u001b[39mstorage_options\u001b[39;49m\u001b[39m\"\u001b[39;49m, \u001b[39mNone\u001b[39;49;00m),\n\u001b[0;32m   1744\u001b[0m )\n\u001b[0;32m   1745\u001b[0m \u001b[39massert\u001b[39;00m \u001b[39mself\u001b[39m\u001b[39m.\u001b[39mhandles \u001b[39mis\u001b[39;00m \u001b[39mnot\u001b[39;00m \u001b[39mNone\u001b[39;00m\n\u001b[0;32m   1746\u001b[0m f \u001b[39m=\u001b[39m \u001b[39mself\u001b[39m\u001b[39m.\u001b[39mhandles\u001b[39m.\u001b[39mhandle\n",
      "File \u001b[1;32mc:\\Users\\tjp00\\AppData\\Local\\Programs\\Python\\Python311\\Lib\\site-packages\\pandas\\io\\common.py:856\u001b[0m, in \u001b[0;36mget_handle\u001b[1;34m(path_or_buf, mode, encoding, compression, memory_map, is_text, errors, storage_options)\u001b[0m\n\u001b[0;32m    851\u001b[0m \u001b[39melif\u001b[39;00m \u001b[39misinstance\u001b[39m(handle, \u001b[39mstr\u001b[39m):\n\u001b[0;32m    852\u001b[0m     \u001b[39m# Check whether the filename is to be opened in binary mode.\u001b[39;00m\n\u001b[0;32m    853\u001b[0m     \u001b[39m# Binary mode does not support 'encoding' and 'newline'.\u001b[39;00m\n\u001b[0;32m    854\u001b[0m     \u001b[39mif\u001b[39;00m ioargs\u001b[39m.\u001b[39mencoding \u001b[39mand\u001b[39;00m \u001b[39m\"\u001b[39m\u001b[39mb\u001b[39m\u001b[39m\"\u001b[39m \u001b[39mnot\u001b[39;00m \u001b[39min\u001b[39;00m ioargs\u001b[39m.\u001b[39mmode:\n\u001b[0;32m    855\u001b[0m         \u001b[39m# Encoding\u001b[39;00m\n\u001b[1;32m--> 856\u001b[0m         handle \u001b[39m=\u001b[39m \u001b[39mopen\u001b[39;49m(\n\u001b[0;32m    857\u001b[0m             handle,\n\u001b[0;32m    858\u001b[0m             ioargs\u001b[39m.\u001b[39;49mmode,\n\u001b[0;32m    859\u001b[0m             encoding\u001b[39m=\u001b[39;49mioargs\u001b[39m.\u001b[39;49mencoding,\n\u001b[0;32m    860\u001b[0m             errors\u001b[39m=\u001b[39;49merrors,\n\u001b[0;32m    861\u001b[0m             newline\u001b[39m=\u001b[39;49m\u001b[39m\"\u001b[39;49m\u001b[39m\"\u001b[39;49m,\n\u001b[0;32m    862\u001b[0m         )\n\u001b[0;32m    863\u001b[0m     \u001b[39melse\u001b[39;00m:\n\u001b[0;32m    864\u001b[0m         \u001b[39m# Binary mode\u001b[39;00m\n\u001b[0;32m    865\u001b[0m         handle \u001b[39m=\u001b[39m \u001b[39mopen\u001b[39m(handle, ioargs\u001b[39m.\u001b[39mmode)\n",
      "\u001b[1;31mFileNotFoundError\u001b[0m: [Errno 2] No such file or directory: './CostarExport_1.csv'"
     ]
    }
   ],
   "source": [
    "import pandas as pd\n",
    "data1 = pd.read_csv(\"./CostarExport_1.csv\") # getting the data\n",
    "data2 = pd.read_csv(\"./LA_multifamily.csv\") # getting the data\n",
    "\n",
    "columnsInD1 = data1.keys()\n",
    "columnsInD2 = data2.keys()\n",
    "\n",
    "validCols = ['Size', 'Net Income', \n",
    "                     'Number Of Units', 'Number Of Parking Spaces', 'Typical Floor (SF)',\n",
    "                     'Number Of Studios Units', 'Number Of 1 Bedrooms Units', 'Number Of 2 Bedrooms Units',\n",
    "                     'Number Of 3 Bedrooms Units']\n",
    "\n",
    "print('Number Of Studios Units' in columnsInD2)\n",
    "mixed = pd.merge(data2, data1,\n",
    "                 on = validCols,\n",
    "                 how = 'outer')\n",
    "\n",
    "merged_file = './merged_file.csv'\n",
    "\n",
    "mixed.to_csv(merged_file, index = False)\n",
    "pd.DataFrame(mixed)\n"
   ]
  },
  {
   "cell_type": "code",
   "execution_count": null,
   "id": "8e2b0222",
   "metadata": {},
   "outputs": [
    {
     "ename": "KeyError",
     "evalue": "'Sale Price'",
     "output_type": "error",
     "traceback": [
      "\u001b[1;31m---------------------------------------------------------------------------\u001b[0m",
      "\u001b[1;31mKeyError\u001b[0m                                  Traceback (most recent call last)",
      "File \u001b[1;32mc:\\Users\\tjp00\\AppData\\Local\\Programs\\Python\\Python311\\Lib\\site-packages\\pandas\\core\\indexes\\base.py:3802\u001b[0m, in \u001b[0;36mIndex.get_loc\u001b[1;34m(self, key, method, tolerance)\u001b[0m\n\u001b[0;32m   3801\u001b[0m \u001b[39mtry\u001b[39;00m:\n\u001b[1;32m-> 3802\u001b[0m     \u001b[39mreturn\u001b[39;00m \u001b[39mself\u001b[39;49m\u001b[39m.\u001b[39;49m_engine\u001b[39m.\u001b[39;49mget_loc(casted_key)\n\u001b[0;32m   3803\u001b[0m \u001b[39mexcept\u001b[39;00m \u001b[39mKeyError\u001b[39;00m \u001b[39mas\u001b[39;00m err:\n",
      "File \u001b[1;32mc:\\Users\\tjp00\\AppData\\Local\\Programs\\Python\\Python311\\Lib\\site-packages\\pandas\\_libs\\index.pyx:138\u001b[0m, in \u001b[0;36mpandas._libs.index.IndexEngine.get_loc\u001b[1;34m()\u001b[0m\n",
      "File \u001b[1;32mc:\\Users\\tjp00\\AppData\\Local\\Programs\\Python\\Python311\\Lib\\site-packages\\pandas\\_libs\\index.pyx:165\u001b[0m, in \u001b[0;36mpandas._libs.index.IndexEngine.get_loc\u001b[1;34m()\u001b[0m\n",
      "File \u001b[1;32mpandas\\_libs\\hashtable_class_helper.pxi:5745\u001b[0m, in \u001b[0;36mpandas._libs.hashtable.PyObjectHashTable.get_item\u001b[1;34m()\u001b[0m\n",
      "File \u001b[1;32mpandas\\_libs\\hashtable_class_helper.pxi:5753\u001b[0m, in \u001b[0;36mpandas._libs.hashtable.PyObjectHashTable.get_item\u001b[1;34m()\u001b[0m\n",
      "\u001b[1;31mKeyError\u001b[0m: 'Sale Price'",
      "\nThe above exception was the direct cause of the following exception:\n",
      "\u001b[1;31mKeyError\u001b[0m                                  Traceback (most recent call last)",
      "\u001b[1;32md:\\Code\\Matthews\\backend\\app\\ai\\vB_fiveParamsLeher-checkpoint.ipynb Cell 2\u001b[0m line \u001b[0;36m2\n\u001b[0;32m     <a href='vscode-notebook-cell:/d%3A/Code/Matthews/backend/app/ai/vB_fiveParamsLeher-checkpoint.ipynb#W1sZmlsZQ%3D%3D?line=17'>18</a>\u001b[0m columns_to_clean \u001b[39m=\u001b[39m [\u001b[39m\"\u001b[39m\u001b[39mSale Price\u001b[39m\u001b[39m\"\u001b[39m, \u001b[39m\"\u001b[39m\u001b[39mNet Income\u001b[39m\u001b[39m\"\u001b[39m, \u001b[39m\"\u001b[39m\u001b[39mBuilding SF\u001b[39m\u001b[39m\"\u001b[39m, \n\u001b[0;32m     <a href='vscode-notebook-cell:/d%3A/Code/Matthews/backend/app/ai/vB_fiveParamsLeher-checkpoint.ipynb#W1sZmlsZQ%3D%3D?line=18'>19</a>\u001b[0m                     \u001b[39m\"\u001b[39m\u001b[39mStar Rating\u001b[39m\u001b[39m\"\u001b[39m, \u001b[39m\"\u001b[39m\u001b[39mPrice Per AC Land\u001b[39m\u001b[39m\"\u001b[39m,\n\u001b[0;32m     <a href='vscode-notebook-cell:/d%3A/Code/Matthews/backend/app/ai/vB_fiveParamsLeher-checkpoint.ipynb#W1sZmlsZQ%3D%3D?line=19'>20</a>\u001b[0m                     \u001b[39m\"\u001b[39m\u001b[39mPrice Per Unit\u001b[39m\u001b[39m\"\u001b[39m, \u001b[39m\"\u001b[39m\u001b[39mDown Payment\u001b[39m\u001b[39m\"\u001b[39m, \u001b[39m\"\u001b[39m\u001b[39mSize\u001b[39m\u001b[39m\"\u001b[39m, \u001b[39m\"\u001b[39m\u001b[39mTotal Expense Amount\u001b[39m\u001b[39m\"\u001b[39m,\n\u001b[0;32m     <a href='vscode-notebook-cell:/d%3A/Code/Matthews/backend/app/ai/vB_fiveParamsLeher-checkpoint.ipynb#W1sZmlsZQ%3D%3D?line=20'>21</a>\u001b[0m                     \u001b[39m'\u001b[39m\u001b[39mParcel Number 1 (Min)\u001b[39m\u001b[39m'\u001b[39m, \u001b[39m'\u001b[39m\u001b[39mParcel Number 2 (Max)\u001b[39m\u001b[39m'\u001b[39m, \u001b[39m\"\u001b[39m\u001b[39mPrice Per SF Land\u001b[39m\u001b[39m\"\u001b[39m]\n\u001b[0;32m     <a href='vscode-notebook-cell:/d%3A/Code/Matthews/backend/app/ai/vB_fiveParamsLeher-checkpoint.ipynb#W1sZmlsZQ%3D%3D?line=22'>23</a>\u001b[0m \u001b[39mfor\u001b[39;00m col \u001b[39min\u001b[39;00m columns_to_clean:\n\u001b[1;32m---> <a href='vscode-notebook-cell:/d%3A/Code/Matthews/backend/app/ai/vB_fiveParamsLeher-checkpoint.ipynb#W1sZmlsZQ%3D%3D?line=23'>24</a>\u001b[0m     df[col] \u001b[39m=\u001b[39m df[col]\u001b[39m.\u001b[39mstr\u001b[39m.\u001b[39mreplace(\u001b[39m'\u001b[39m\u001b[39m,\u001b[39m\u001b[39m'\u001b[39m, \u001b[39m'\u001b[39m\u001b[39m'\u001b[39m)\n\u001b[0;32m     <a href='vscode-notebook-cell:/d%3A/Code/Matthews/backend/app/ai/vB_fiveParamsLeher-checkpoint.ipynb#W1sZmlsZQ%3D%3D?line=24'>25</a>\u001b[0m     df[col] \u001b[39m=\u001b[39m df[col]\u001b[39m.\u001b[39mstr\u001b[39m.\u001b[39mreplace(\u001b[39m'\u001b[39m\u001b[39m$\u001b[39m\u001b[39m'\u001b[39m, \u001b[39m'\u001b[39m\u001b[39m'\u001b[39m)\n\u001b[0;32m     <a href='vscode-notebook-cell:/d%3A/Code/Matthews/backend/app/ai/vB_fiveParamsLeher-checkpoint.ipynb#W1sZmlsZQ%3D%3D?line=25'>26</a>\u001b[0m     df[col] \u001b[39m=\u001b[39m df[col]\u001b[39m.\u001b[39mstr\u001b[39m.\u001b[39mreplace(\u001b[39m'\u001b[39m\u001b[39m Star\u001b[39m\u001b[39m'\u001b[39m, \u001b[39m'\u001b[39m\u001b[39m'\u001b[39m)\n",
      "File \u001b[1;32mc:\\Users\\tjp00\\AppData\\Local\\Programs\\Python\\Python311\\Lib\\site-packages\\pandas\\core\\frame.py:3807\u001b[0m, in \u001b[0;36mDataFrame.__getitem__\u001b[1;34m(self, key)\u001b[0m\n\u001b[0;32m   3805\u001b[0m \u001b[39mif\u001b[39;00m \u001b[39mself\u001b[39m\u001b[39m.\u001b[39mcolumns\u001b[39m.\u001b[39mnlevels \u001b[39m>\u001b[39m \u001b[39m1\u001b[39m:\n\u001b[0;32m   3806\u001b[0m     \u001b[39mreturn\u001b[39;00m \u001b[39mself\u001b[39m\u001b[39m.\u001b[39m_getitem_multilevel(key)\n\u001b[1;32m-> 3807\u001b[0m indexer \u001b[39m=\u001b[39m \u001b[39mself\u001b[39;49m\u001b[39m.\u001b[39;49mcolumns\u001b[39m.\u001b[39;49mget_loc(key)\n\u001b[0;32m   3808\u001b[0m \u001b[39mif\u001b[39;00m is_integer(indexer):\n\u001b[0;32m   3809\u001b[0m     indexer \u001b[39m=\u001b[39m [indexer]\n",
      "File \u001b[1;32mc:\\Users\\tjp00\\AppData\\Local\\Programs\\Python\\Python311\\Lib\\site-packages\\pandas\\core\\indexes\\base.py:3804\u001b[0m, in \u001b[0;36mIndex.get_loc\u001b[1;34m(self, key, method, tolerance)\u001b[0m\n\u001b[0;32m   3802\u001b[0m     \u001b[39mreturn\u001b[39;00m \u001b[39mself\u001b[39m\u001b[39m.\u001b[39m_engine\u001b[39m.\u001b[39mget_loc(casted_key)\n\u001b[0;32m   3803\u001b[0m \u001b[39mexcept\u001b[39;00m \u001b[39mKeyError\u001b[39;00m \u001b[39mas\u001b[39;00m err:\n\u001b[1;32m-> 3804\u001b[0m     \u001b[39mraise\u001b[39;00m \u001b[39mKeyError\u001b[39;00m(key) \u001b[39mfrom\u001b[39;00m \u001b[39merr\u001b[39;00m\n\u001b[0;32m   3805\u001b[0m \u001b[39mexcept\u001b[39;00m \u001b[39mTypeError\u001b[39;00m:\n\u001b[0;32m   3806\u001b[0m     \u001b[39m# If we have a listlike key, _check_indexing_error will raise\u001b[39;00m\n\u001b[0;32m   3807\u001b[0m     \u001b[39m#  InvalidIndexError. Otherwise we fall through and re-raise\u001b[39;00m\n\u001b[0;32m   3808\u001b[0m     \u001b[39m#  the TypeError.\u001b[39;00m\n\u001b[0;32m   3809\u001b[0m     \u001b[39mself\u001b[39m\u001b[39m.\u001b[39m_check_indexing_error(key)\n",
      "\u001b[1;31mKeyError\u001b[0m: 'Sale Price'"
     ]
    }
   ],
   "source": [
    "# imports\n",
    "\n",
    "from sklearn.model_selection import train_test_split\n",
    "from sklearn.linear_model import LinearRegression\n",
    "from sklearn.ensemble import RandomForestRegressor, GradientBoostingRegressor\n",
    "from sklearn.metrics import mean_absolute_error, mean_squared_error, r2_score\n",
    "from sklearn.pipeline import Pipeline\n",
    "from sklearn.impute import SimpleImputer\n",
    "from sklearn.compose import ColumnTransformer\n",
    "from sklearn.preprocessing import StandardScaler, OneHotEncoder\n",
    "import numpy as np\n",
    "from sklearn.preprocessing import PolynomialFeatures\n",
    "\n",
    "# cleanup\n",
    "merged_file = r'D:\\Code\\Matthews\\data\\merged_data.csv'\n",
    "df = pd.read_csv(merged_file) \n",
    "\n",
    "columns_to_clean = [\"Sale Price\", \"Net Income\", \"Building SF\", \n",
    "                    \"Star Rating\", \"Price Per AC Land\",\n",
    "                    \"Price Per Unit\", \"Down Payment\", \"Size\", \"Total Expense Amount\",\n",
    "                    'Parcel Number 1 (Min)', 'Parcel Number 2 (Max)', \"Price Per SF Land\"]\n",
    "                    \n",
    "for col in columns_to_clean:\n",
    "    df[col] = df[col].str.replace(',', '')\n",
    "    df[col] = df[col].str.replace('$', '')\n",
    "    df[col] = df[col].str.replace(' Star', '')\n",
    "    df[col] = df[col].str.replace('-', '')\n",
    "    \n",
    "\n",
    "# Convert the columns to numeric\n",
    "df[columns_to_clean] = df[columns_to_clean].apply(pd.to_numeric, errors='coerce')\n",
    "keep = ['Size', 'Building SF', 'Number Of Units', 'Number Of Floors', \n",
    "         'Price Per AC Land', 'Price Per SF Land', 'Asking Price', \n",
    "         'Number Of 1 Bedrooms Units', 'Number Of 2 Bedrooms Units', \n",
    "         'Floor Area Ratio', 'Number Of Parking Spaces', \n",
    "         'Number Of Studios Units', 'Typical Floor (SF)', \n",
    "         'Number Of 3 Bedrooms Units', 'Land Area AC', 'Land Area SF', \n",
    "         'Star Rating', 'Net Income', 'Year Built', 'Age',\n",
    "         'Sale Price']\n",
    "\n",
    "df = df[keep]\n",
    "df.dropna(axis = 0, inplace=True)\n",
    "\n",
    "\n",
    "num_transformer = Pipeline(steps=[\n",
    "    ('imputer', SimpleImputer(strategy='median')),\n",
    "    ('scaler', StandardScaler())\n",
    "])\n",
    "\n",
    "\n",
    "\n",
    "# Save the cleaned dataset\n",
    "cleaned_file = '/Users/lehergulati/Downloads/matthews-data-files/cleaned_dataset.csv'\n",
    "df.to_csv(cleaned_file, index=False)"
   ]
  },
  {
   "cell_type": "code",
   "execution_count": 22,
   "id": "ee0fcb60",
   "metadata": {},
   "outputs": [
    {
     "name": "stdout",
     "output_type": "stream",
     "text": [
      "Model: Linear_Regression\n",
      "Mean Absolute Error: 859642.9356200793\n",
      "R-squared: 0.2598030103541348\n",
      "Mean Percentage Error: 27.96250472256057\n",
      "========================================\n",
      "Model: Random_Forest\n",
      "Mean Absolute Error: 767831.3898684211\n",
      "R-squared: 0.5223941179233829\n",
      "Mean Percentage Error: 25.768122381600477\n",
      "========================================\n",
      "Model: Gradient_Boosting\n",
      "Mean Absolute Error: 858564.4751451085\n",
      "R-squared: 0.26318902682875267\n",
      "Mean Percentage Error: 26.762435512000483\n",
      "========================================\n"
     ]
    },
    {
     "name": "stderr",
     "output_type": "stream",
     "text": [
      "c:\\Users\\tjp00\\AppData\\Local\\Programs\\Python\\Python311\\Lib\\site-packages\\sklearn\\utils\\_param_validation.py:591: FutureWarning: Passing an int for a boolean parameter is deprecated in version 1.2 and won't be supported anymore in version 1.4.\n",
      "  warnings.warn(\n"
     ]
    },
    {
     "name": "stdout",
     "output_type": "stream",
     "text": [
      "Random Forest - MAE: 701909.3019736841, R2: 0.6873493577365862, MPE: 24.404987564670154\n",
      "Gradient Boosting - MAE: 720912.7089853886, R2: 0.6735524850277985, MPE: 24.225366112299064\n",
      "================================================================================\n"
     ]
    }
   ],
   "source": [
    "import pickle\n",
    "from joblib import dump, load\n",
    "import pandas as pd\n",
    "from sklearn.model_selection import train_test_split\n",
    "from sklearn.linear_model import LinearRegression\n",
    "from sklearn.ensemble import RandomForestRegressor, GradientBoostingRegressor\n",
    "from sklearn.metrics import mean_absolute_error, mean_squared_error, r2_score\n",
    "from sklearn.pipeline import Pipeline\n",
    "from sklearn.impute import SimpleImputer\n",
    "from sklearn.compose import ColumnTransformer\n",
    "from sklearn.preprocessing import StandardScaler, OneHotEncoder\n",
    "import numpy as np\n",
    "from sklearn.preprocessing import PolynomialFeatures\n",
    "\n",
    "# selected_features = ['Building SF', 'Size', 'Net Income', 'Number Of Units', \n",
    "#                      'Number Of Parking Spaces', 'Typical Floor (SF)',\n",
    "#                      'Land Area SF', 'Land Area AC', 'Number Of 2 Bedrooms Units',\n",
    "#                      'Number Of 3 Bedrooms Units', 'Number Of 1 Bedrooms Units']\n",
    "\n",
    "# Building SF                   0.865942    0.184476 -0.184476    0.892998  \n",
    "# Size                          0.865942    0.184476 -0.184476    0.892998  \n",
    "# Net Income                    1.000000    0.259688 -0.259688    0.848735  \n",
    "# Number Of Units               0.757420    0.105807 -0.105807    0.841576  \n",
    "# Number Of Parking Spaces      0.752257    0.221623 -0.221623    0.806509  \n",
    "# Typical Floor (SF)\n",
    "\n",
    "num_transformer = Pipeline(steps=[\n",
    "    ('imputer', SimpleImputer(strategy='median')),\n",
    "    ('scaler', StandardScaler())\n",
    "])\n",
    "\n",
    "selected_features = ['Size', 'Net Income', \n",
    "                     'Number Of Parking Spaces', 'Typical Floor (SF)',\n",
    "                     'Number Of Studios Units', 'Number Of 1 Bedrooms Units', 'Number Of 2 Bedrooms Units',\n",
    "                     'Number Of 3 Bedrooms Units']\n",
    "# setting train test data\n",
    "\n",
    "df = pd.read_csv('cleaned_dataset.csv')\n",
    "\n",
    "df.dropna(axis = 0)\n",
    "\n",
    "X = df[selected_features]\n",
    "y = df['Sale Price']\n",
    "\n",
    "X_train, X_test, y_train, y_test = train_test_split(X, y, test_size=0.2)\n",
    "\n",
    "\n",
    "# models\n",
    "\n",
    "models = {\n",
    "    'Linear_Regression': LinearRegression(),\n",
    "    'Random_Forest': RandomForestRegressor(),\n",
    "    'Gradient_Boosting': GradientBoostingRegressor()\n",
    "}\n",
    "\n",
    "num_cols = X_train.select_dtypes(include=['float64', 'int64']).columns\n",
    "preprocessor = ColumnTransformer(\n",
    "    transformers=[\n",
    "        ('num', num_transformer, num_cols),\n",
    "    ])\n",
    "\n",
    "\n",
    "# run models\n",
    "maes = []\n",
    "for name, model in models.items():\n",
    "    \n",
    "    pipeline = Pipeline(steps=[('preprocessor', preprocessor),\n",
    "                               ('model', model)\n",
    "                              ])\n",
    "    \n",
    "    pipeline.fit(X_train, y_train)\n",
    "\n",
    "    with open(f\"v2_model{name}.pkl\", \"wb\") as f:\n",
    "        pickle.dump(model, f)\n",
    "\n",
    "    y_pred = pipeline.predict(X_test)\n",
    "\n",
    "    mae = mean_absolute_error(y_test, y_pred)\n",
    "    mse = mean_squared_error(y_test, y_pred)\n",
    "    r2 = r2_score(y_test, y_pred)\n",
    "    mpe = np.mean(np.abs((y_test - y_pred)/y_test))*100\n",
    "    maes += [mae]\n",
    "\n",
    "    print(f\"Model: {name}\")\n",
    "    print(f\"Mean Absolute Error: {mae}\")\n",
    "    print(f\"R-squared: {r2}\")\n",
    "    print(f\"Mean Percentage Error: {mpe}\")\n",
    "    print(\"=\"*40)\n",
    "\n",
    "\n",
    "\n",
    "\n",
    "\n",
    "non_numeric_columns = X.select_dtypes(exclude=['number']).columns\n",
    "X_train_numeric = X_train.drop(columns=non_numeric_columns)\n",
    "X_test_numeric = X_test.drop(columns=non_numeric_columns)\n",
    "\n",
    "poly = PolynomialFeatures(degree=2, interaction_only = 2, include_bias = False)\n",
    "\n",
    "X_poly_train = poly.fit_transform(X_train_numeric)\n",
    "X_poly_test = poly.transform(X_test_numeric)\n",
    "\n",
    "rf = RandomForestRegressor(random_state = 42)\n",
    "gb = GradientBoostingRegressor(random_state = 42)\n",
    "high_performing_models = {\n",
    "    'Random Forest': rf,\n",
    "    'Gradient Boosting': gb\n",
    "}\n",
    "\n",
    "for name, model in high_performing_models.items():\n",
    "    model.fit(X_poly_train, y_train)\n",
    "    y_pred = model.predict(X_poly_test)\n",
    "                           \n",
    "    mpe = np.mean(np.abs((y_test - y_pred)/y_test))*100\n",
    "\n",
    "    print(f\"{name} - MAE: {mean_absolute_error(y_test, y_pred)}, R2: {r2_score(y_test, y_pred)}, MPE: {mpe}\")\n",
    "print(\"=\"*80)"
   ]
  },
  {
   "cell_type": "code",
   "execution_count": 24,
   "id": "6b98b2ed",
   "metadata": {},
   "outputs": [
    {
     "name": "stdout",
     "output_type": "stream",
     "text": [
      "Best parameter (CV score=0.704):\n",
      "{'model__criterion': 'poisson', 'model__n_estimators': 60}\n",
      "Best parameter (CV score=0.752):\n",
      "{'model__loss': 'absolute_error'}\n"
     ]
    }
   ],
   "source": [
    "from sklearn.model_selection import GridSearchCV\n",
    "\n",
    "models = {\n",
    "    'Random_Forest': [RandomForestRegressor(), {\n",
    "        \"model__n_estimators\": list(range(50, 150, 10)),\n",
    "        \"model__criterion\": [\"squared_error\", \"absolute_error\", \"friedman_mse\", \"poisson\"]\n",
    "    }],\n",
    "    'Gradient_Boosting': [GradientBoostingRegressor(), {\n",
    "        \"model__loss\": [\"squared_error\", \"absolute_error\", \"huber\"]\n",
    "    }]\n",
    "}\n",
    "\n",
    "for name, [model, params] in models.items():\n",
    "    \n",
    "    pipeline = Pipeline(steps=[('preprocessor', preprocessor),\n",
    "                               ('model', model)\n",
    "                              ])\n",
    "    \n",
    "    search = GridSearchCV(pipeline, params, n_jobs=2)\n",
    "    search.fit(X_train, y_train)\n",
    "    print(\"Best parameter (CV score=%0.3f):\" % search.best_score_)\n",
    "    print(search.best_params_)"
   ]
  },
  {
   "cell_type": "code",
   "execution_count": 30,
   "id": "1afc5194",
   "metadata": {},
   "outputs": [
    {
     "name": "stdout",
     "output_type": "stream",
     "text": [
      "Model: Random_Forest_Pipeline\n",
      "Mean Absolute Error: 705912.3521929824\n",
      "R-squared: 0.3549936626603406\n",
      "Mean Percentage Error: 23.049049712131367\n",
      "========================================\n"
     ]
    },
    {
     "data": {
      "text/plain": [
       "[5418201.022222222, 5984836.022222222]"
      ]
     },
     "execution_count": 30,
     "metadata": {},
     "output_type": "execute_result"
    }
   ],
   "source": [
    "name = \"Random_Forest_Pipeline\"\n",
    "model = RandomForestRegressor(n_estimators=90, criterion=\"poisson\")\n",
    "\n",
    "X_train, X_test, y_train, y_test = train_test_split(X, y, test_size=0.2)\n",
    "\n",
    "pipeline = Pipeline(steps=[('preprocessor', preprocessor),\n",
    "                               ('model', model)\n",
    "                              ])\n",
    "\n",
    "pipeline.fit(X_train, y_train)\n",
    "\n",
    "with open(f\"v2_model{name}.pkl\", \"wb\") as f:\n",
    "    pickle.dump(pipeline, f)\n",
    "\n",
    "y_pred = pipeline.predict(X_test)\n",
    "\n",
    "mae = mean_absolute_error(y_test, y_pred)\n",
    "mse = mean_squared_error(y_test, y_pred)\n",
    "r2 = r2_score(y_test, y_pred)\n",
    "mpe = np.mean(np.abs((y_test - y_pred)/y_test))*100\n",
    "maes += [mae]\n",
    "\n",
    "print(f\"Model: {name}\")\n",
    "print(f\"Mean Absolute Error: {mae}\")\n",
    "print(f\"R-squared: {r2}\")\n",
    "print(f\"Mean Percentage Error: {mpe}\")\n",
    "print(\"=\"*40)\n",
    "\n",
    "selected_features = {'Size': 17874, \n",
    "                     'Net Income': 237377,\n",
    "                     'Number Of Parking Spaces': 16, \n",
    "                     'Typical Floor (SF)': 7864.0,\n",
    "                     'Number Of Studios Units': 0, \n",
    "                     'Number Of 1 Bedrooms Units': 16, \n",
    "                     'Number Of 2 Bedrooms Units': 0,\n",
    "                     'Number Of 3 Bedrooms Units': 0}\n",
    "\n",
    "\n",
    "pre = pipeline.predict(pd.DataFrame(selected_features, index=[0]))\n",
    "ranmin = pre[0] - 0.5*566635\n",
    "ranmax = pre[0] + 0.5*566635\n",
    "\n",
    "[ranmin, ranmax]"
   ]
  },
  {
   "cell_type": "code",
   "execution_count": 27,
   "id": "703afa8e",
   "metadata": {},
   "outputs": [
    {
     "data": {
      "image/png": "[encoded data removed]",
      "text/plain": [
       "<Figure size 640x480 with 1 Axes>"
      ]
     },
     "metadata": {},
     "output_type": "display_data"
    }
   ],
   "source": [
    "import matplotlib.pyplot as plt\n",
    "import numpy as np\n",
    "\n",
    "\n",
    "def plotGraph(y_test,y_pred,regressorName):\n",
    "    if max(y_test) >= max(y_pred):\n",
    "        my_range = int(max(y_test))\n",
    "    else:\n",
    "        my_range = int(max(y_pred))\n",
    "    plt.scatter(range(len(y_test)), y_test, color='blue')\n",
    "    plt.scatter(range(len(y_pred)), y_pred, color='red')\n",
    "    plt.title(regressorName)\n",
    "    plt.show()\n",
    "    return\n",
    "\n",
    "plotGraph(y_test, y_pred, \"test\")"
   ]
  },
  {
   "cell_type": "code",
   "execution_count": 28,
   "id": "916cec23",
   "metadata": {},
   "outputs": [],
   "source": [
    "with open('maes.txt', \"w\") as f:\n",
    "    for mae in maes:\n",
    "        f.write(f\"{mae}\\n\")"
   ]
  },
  {
   "cell_type": "code",
   "execution_count": 29,
   "id": "a1d920e0",
   "metadata": {},
   "outputs": [
    {
     "data": {
      "text/plain": [
       "[5241960.277777778, 5808595.277777778]"
      ]
     },
     "execution_count": 29,
     "metadata": {},
     "output_type": "execute_result"
    }
   ],
   "source": [
    "import pickle\n",
    "import pandas as pd\n",
    "\n",
    "with open(\"v2_modelRandom_Forest.pkl\", \"rb\") as file:\n",
    "    model = pickle.load(file)\n",
    "\n",
    "selected_features = {'Size': 17874, \n",
    "                     'Net Income': 237377,\n",
    "                     'Number Of Parking Spaces': 16, \n",
    "                     'Typical Floor (SF)': 7864.0,\n",
    "                     'Number Of Studios Units': 0, \n",
    "                     'Number Of 1 Bedrooms Units': 16, \n",
    "                     'Number Of 2 Bedrooms Units': 0,\n",
    "                     'Number Of 3 Bedrooms Units': 0}\n",
    "\n",
    "\n",
    "pre = model.predict(pd.DataFrame(selected_features, index=[0]))\n",
    "ranmin = pre[0] - 0.5*566635\n",
    "ranmax = pre[0] + 0.5*566635\n",
    "\n",
    "[ranmin, ranmax]"
   ]
  }
 ],
 "metadata": {
  "kernelspec": {
   "display_name": "Python 3 (ipykernel)",
   "language": "python",
   "name": "python3"
  },
  "language_info": {
   "codemirror_mode": {
    "name": "ipython",
    "version": 3
   },
   "file_extension": ".py",
   "mimetype": "text/x-python",
   "name": "python",
   "nbconvert_exporter": "python",
   "pygments_lexer": "ipython3",
   "version": "3.11.4"
  }
 },
 "nbformat": 4,
 "nbformat_minor": 5
}
